{
 "cells": [
  {
   "cell_type": "code",
   "execution_count": 12,
   "id": "63257aa5-b736-4dcf-8c5d-465f27224989",
   "metadata": {},
   "outputs": [
    {
     "name": "stdout",
     "output_type": "stream",
     "text": [
      "Time (ms), HUM, TMP, DEW\n",
      "69,39.55,22.10,7.75\n",
      "1107,39.55,22.07,7.73\n",
      "2147,39.55,22.08,7.74\n",
      "3186,39.55,22.08,7.74\n",
      "4226,39.55,22.10,7.75\n",
      "5265,39.55,22.10,7.76\n",
      "6304,39.55,22.08,7.74\n",
      "7344,39.55,22.10,7.75\n",
      "8383,39.55,22.08,7.74\n",
      "9422,39.55,22.08,7.74\n",
      "10461,39.54,22.10,7.75\n",
      "11500,39.54,22.08,7.74\n",
      "12539,39.55,22.08,7.74\n",
      "13579,39.55,22.10,7.75\n",
      "14618,39.55,22.08,7.74\n",
      "15657,39.54,22.07,7.73\n",
      "16696,39.55,22.10,7.75\n",
      "17735,39.54,22.10,7.75\n"
     ]
    },
    {
     "ename": "KeyboardInterrupt",
     "evalue": "",
     "output_type": "error",
     "traceback": [
      "\u001b[1;31m---------------------------------------------------------------------------\u001b[0m",
      "\u001b[1;31mKeyboardInterrupt\u001b[0m                         Traceback (most recent call last)",
      "Cell \u001b[1;32mIn[12], line 13\u001b[0m\n\u001b[0;32m     11\u001b[0m \u001b[38;5;28mprint\u001b[39m(\u001b[38;5;124m\"\u001b[39m\u001b[38;5;124mTime (ms), HUM, TMP, DEW\u001b[39m\u001b[38;5;124m\"\u001b[39m)\n\u001b[0;32m     12\u001b[0m \u001b[38;5;28;01mwhile\u001b[39;00m \u001b[38;5;28;01mTrue\u001b[39;00m:\n\u001b[1;32m---> 13\u001b[0m     line \u001b[38;5;241m=\u001b[39m ser\u001b[38;5;241m.\u001b[39mreadline()\u001b[38;5;241m.\u001b[39mdecode(\u001b[38;5;124m'\u001b[39m\u001b[38;5;124mutf-8\u001b[39m\u001b[38;5;124m'\u001b[39m)\u001b[38;5;241m.\u001b[39mstrip()\n\u001b[0;32m     14\u001b[0m     \u001b[38;5;28mprint\u001b[39m(line)\n\u001b[0;32m     15\u001b[0m ser\u001b[38;5;241m.\u001b[39mclose()\n",
      "File \u001b[1;32m~\\anaconda3\\Lib\\site-packages\\serial\\serialwin32.py:288\u001b[0m, in \u001b[0;36mSerial.read\u001b[1;34m(self, size)\u001b[0m\n\u001b[0;32m    286\u001b[0m \u001b[38;5;28;01mif\u001b[39;00m \u001b[38;5;129;01mnot\u001b[39;00m read_ok \u001b[38;5;129;01mand\u001b[39;00m win32\u001b[38;5;241m.\u001b[39mGetLastError() \u001b[38;5;129;01mnot\u001b[39;00m \u001b[38;5;129;01min\u001b[39;00m (win32\u001b[38;5;241m.\u001b[39mERROR_SUCCESS, win32\u001b[38;5;241m.\u001b[39mERROR_IO_PENDING):\n\u001b[0;32m    287\u001b[0m     \u001b[38;5;28;01mraise\u001b[39;00m SerialException(\u001b[38;5;124m\"\u001b[39m\u001b[38;5;124mReadFile failed (\u001b[39m\u001b[38;5;132;01m{!r}\u001b[39;00m\u001b[38;5;124m)\u001b[39m\u001b[38;5;124m\"\u001b[39m\u001b[38;5;241m.\u001b[39mformat(ctypes\u001b[38;5;241m.\u001b[39mWinError()))\n\u001b[1;32m--> 288\u001b[0m result_ok \u001b[38;5;241m=\u001b[39m win32\u001b[38;5;241m.\u001b[39mGetOverlappedResult(\n\u001b[0;32m    289\u001b[0m     \u001b[38;5;28mself\u001b[39m\u001b[38;5;241m.\u001b[39m_port_handle,\n\u001b[0;32m    290\u001b[0m     ctypes\u001b[38;5;241m.\u001b[39mbyref(\u001b[38;5;28mself\u001b[39m\u001b[38;5;241m.\u001b[39m_overlapped_read),\n\u001b[0;32m    291\u001b[0m     ctypes\u001b[38;5;241m.\u001b[39mbyref(rc),\n\u001b[0;32m    292\u001b[0m     \u001b[38;5;28;01mTrue\u001b[39;00m)\n\u001b[0;32m    293\u001b[0m \u001b[38;5;28;01mif\u001b[39;00m \u001b[38;5;129;01mnot\u001b[39;00m result_ok:\n\u001b[0;32m    294\u001b[0m     \u001b[38;5;28;01mif\u001b[39;00m win32\u001b[38;5;241m.\u001b[39mGetLastError() \u001b[38;5;241m!=\u001b[39m win32\u001b[38;5;241m.\u001b[39mERROR_OPERATION_ABORTED:\n",
      "\u001b[1;31mKeyboardInterrupt\u001b[0m: "
     ]
    }
   ],
   "source": [
    "#MAIN\n",
    "\n",
    "import serial\n",
    "import csv\n",
    "import time\n",
    "\n",
    "serial_port = 'COM7'\n",
    "baud_rate = 9600\n",
    "\n",
    "ser = serial.Serial(serial_port, baud_rate)\n",
    "print(\"Time (ms), HUM, TMP, DEW\")\n",
    "while True:\n",
    "    line = ser.readline().decode('utf-8').strip()\n",
    "    print(line)\n",
    "ser.close()\n"
   ]
  },
  {
   "cell_type": "code",
   "execution_count": 22,
   "id": "5a316961-a4e4-43f2-8bbc-99c8b03b4019",
   "metadata": {},
   "outputs": [],
   "source": [
    "ser.close()"
   ]
  },
  {
   "cell_type": "markdown",
   "id": "2604e7af-9da3-45d0-bd11-c8008875debc",
   "metadata": {},
   "source": [
    "O,HUM,1\\r\n",
    "\n",
    "If tmp, dew doesn't print, \n",
    "type\n",
    "O,T,1\\r  and\n",
    "\n",
    "O,Dew,1\\r\n",
    "\n",
    "in the Arduino serial monitor to activate\n",
    "\n",
    "check with O,?\\r --> ?,O,HUM,T,Dew\\r if all enabled"
   ]
  },
  {
   "cell_type": "code",
   "execution_count": 26,
   "id": "d045ab81-9cd0-417c-a7e9-6966042ce071",
   "metadata": {},
   "outputs": [
    {
     "name": "stdout",
     "output_type": "stream",
     "text": [
      "Stopping...\n",
      "CSV file saved to: hum_test.csv\n"
     ]
    }
   ],
   "source": [
    "#MAIN\n",
    "\n",
    "import serial\n",
    "import csv\n",
    "import time\n",
    "\n",
    "serial_port = 'COM7'\n",
    "baud_rate = 9600\n",
    "duration_seconds = 60\n",
    "csv_file_path = 'hum_test.csv'\n",
    "\n",
    "\n",
    "ser = serial.Serial(serial_port, baud_rate)\n",
    "\n",
    "with open(csv_file_path, 'a', newline='') as csvfile:\n",
    "    csvwriter = csv.writer(csvfile)\n",
    "    csvwriter.writerow(['Timestamp', 'HUM', 'TMP', 'DEW'])\n",
    "\n",
    "    start_time = time.time()\n",
    "    try:\n",
    "        while True:\n",
    "            line = ser.readline().decode('utf-8').strip()\n",
    "            if line:\n",
    "                parts = line.split(',')\n",
    "                timestamp = time.strftime('%Y-%m-%d %H:%M:%S')\n",
    "                timemillis = float(parts[0].strip())\n",
    "                HUM = float(parts[1].strip())\n",
    "                TMP = float(parts[2].strip())\n",
    "                DEW = float(parts[3].strip())\n",
    "                csvwriter.writerow([timestamp, HUM,TMP,DEW])\n",
    "                csvfile.flush()\n",
    "\n",
    "\n",
    "    except KeyboardInterrupt:\n",
    "        print(\"Stopping...\")\n",
    "\n",
    "ser.close()\n",
    "\n",
    "print(f\"CSV file saved to: {csv_file_path}\")"
   ]
  },
  {
   "cell_type": "code",
   "execution_count": null,
   "id": "71981fc1-66dd-413a-9fb7-33c43a2aff05",
   "metadata": {},
   "outputs": [],
   "source": []
  }
 ],
 "metadata": {
  "kernelspec": {
   "display_name": "Python 3 (ipykernel)",
   "language": "python",
   "name": "python3"
  },
  "language_info": {
   "codemirror_mode": {
    "name": "ipython",
    "version": 3
   },
   "file_extension": ".py",
   "mimetype": "text/x-python",
   "name": "python",
   "nbconvert_exporter": "python",
   "pygments_lexer": "ipython3",
   "version": "3.12.4"
  }
 },
 "nbformat": 4,
 "nbformat_minor": 5
}
